{
  "nbformat": 4,
  "nbformat_minor": 0,
  "metadata": {
    "colab": {
      "name": "Python- exchange-coins",
      "provenance": [],
      "authorship_tag": "ABX9TyMGKRYK+0trC2MXGcHCkMPY",
      "include_colab_link": true
    },
    "kernelspec": {
      "name": "python3",
      "display_name": "Python 3"
    },
    "language_info": {
      "name": "python"
    }
  },
  "cells": [
    {
      "cell_type": "markdown",
      "metadata": {
        "id": "view-in-github",
        "colab_type": "text"
      },
      "source": [
        "<a href=\"https://colab.research.google.com/github/Jorgeraul1997/primerodetodos/blob/master/Python_exchange_coins.ipynb\" target=\"_parent\"><img src=\"https://colab.research.google.com/assets/colab-badge.svg\" alt=\"Open In Colab\"/></a>"
      ]
    },
    {
      "cell_type": "code",
      "execution_count": null,
      "metadata": {
        "id": "ax6QQ1K1orLa"
      },
      "outputs": [],
      "source": [
        "menu = \"\"\"convertidor de monedas\n",
        "1-Pesos mexicanos\n",
        "2- Pesos argentinos\n",
        "3- pesos colombianos\"\"\"\n",
        "\n",
        "opcion = input (menu)\n",
        "opcion = int (menu)\n",
        "\n",
        "if opcion == 1:\n",
        " pesos= input(\"cuantos pesos  mexicanos tienes\")\n",
        " pesos= float(pesos)\n",
        " valor_dolar= 22\n",
        " dolar= pesos/ valor_dolar\n",
        " dolar = round (dolar)\n",
        " print(\"tienes$\"+dolar+ \"dolares\")\n",
        "\n",
        "elif opcion == 2:\n",
        "    pesos= input(\"cuantos pesos argentinos tienes\")\n",
        "    pesos= float(pesos)\n",
        "    valor_dolar= 0.00025\n",
        "    dolar= pesos/ valor_dolar\n",
        "    dolar = round (dolar)\n",
        "    print(\"tienes $\"+ dolar + \"dolares\")\n",
        "elif opcion == 3:\n",
        "     pesos= input(\"cuantos pesos colombianos tienes\")\n",
        "     pesos= float(pesos)\n",
        "     valor_dolar= 0.0094\n",
        "     dolar= pesos/ valor_dolar\n",
        "     dolar = round (dolar)\n",
        "     print(\"tienes $\" + dolar + \"dolares\")   \n"
      ]
    }
  ]
}